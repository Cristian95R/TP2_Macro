{
 "cells": [
  {
   "cell_type": "code",
   "execution_count": 169,
   "metadata": {},
   "outputs": [],
   "source": [
    "import pandas as pd\n",
    "import numpy as np\n"
   ]
  },
  {
   "cell_type": "code",
   "execution_count": 170,
   "metadata": {},
   "outputs": [],
   "source": [
    "# URL \"raw\" del archivo de Excel\n",
    "url = 'https://raw.githubusercontent.com/Cristian95R/TP2_Macro/main/Source_Files/ALUAR.xlsx'\n",
    "url_2 = 'https://raw.githubusercontent.com/Cristian95R/TP2_Macro/main/Source_Files/BBVA.xlsx'\n",
    "url_3 = 'https://raw.githubusercontent.com/Cristian95R/TP2_Macro/main/Source_Files/CRESUD.xlsx'\n",
    "url_4 = 'https://raw.githubusercontent.com/Cristian95R/TP2_Macro/main/Source_Files/Galicia.xlsx'\n",
    "url_5 = 'https://raw.githubusercontent.com/Cristian95R/TP2_Macro/main/Source_Files/MIRGOR.xlsx'\n",
    "url_6 = 'https://raw.githubusercontent.com/Cristian95R/TP2_Macro/main/Source_Files/Tipo_CambioBNA.xlsx'\n",
    "\n",
    "\n",
    "# Cargar el archivo de Excel\n",
    "df_ALUAR = pd.read_excel(url, decimal=',', thousands='.')  # Leer como texto para evitar conversiones automáticas\n",
    "df_ALUAR = df_ALUAR.drop(columns=['Unnamed: 0'])\n",
    "df_BBVA = pd.read_excel(url_2, decimal=',', thousands='.') \n",
    "df_CRESUD = pd.read_excel(url_3, decimal=',', thousands='.') \n",
    "df_Galicia = pd.read_excel(url_4, decimal=',', thousands='.') \n",
    "df_MIRGOR = pd.read_excel(url_5, decimal=',', thousands='.')\n",
    "df_TCBNA = pd.read_excel(url_6 , dtype=str)"
   ]
  },
  {
   "cell_type": "code",
   "execution_count": 171,
   "metadata": {},
   "outputs": [],
   "source": [
    "# Función para verificar y ajustar los valores\n",
    "def process_value(value):\n",
    "    if ',' in str(value):  # Si contiene una coma, no modificar\n",
    "        return value\n",
    "    else:  # Si no contiene una coma, dividir por 100\n",
    "        try:\n",
    "            return float(value) / 100\n",
    "        except ValueError:  # En caso de que no sea numérico\n",
    "            return value\n",
    "        \n",
    "# Función para procesar los valores\n",
    "def proces_comma(value):\n",
    "    # Reemplazar formatos europeos (punto para miles y coma para decimales)\n",
    "    try:\n",
    "        # Reemplazar punto y coma, luego convertir a float y a entero\n",
    "        value = str(value).replace('.', '').replace(',', '.')\n",
    "        return int(float(value))  # Convertir a número entero\n",
    "    except ValueError:  # Si no es un número válido, retornar None o el valor original\n",
    "        return None"
   ]
  },
  {
   "cell_type": "code",
   "execution_count": 172,
   "metadata": {},
   "outputs": [],
   "source": [
    "# Aplicar la función c/u de las columna\n",
    "df_ALUAR['Fecha'] = pd.to_datetime(df_ALUAR['Fecha']).dt.date   # Convertir la columna a tipo datetime y extraer solo la fecha\n",
    "df_ALUAR['Volumen Nominal'] = df_ALUAR['Volumen Nominal'].apply(proces_comma)\n",
    "df_ALUAR['Precio Apertura'] = df_ALUAR['Precio Apertura'].apply(process_value)\n",
    "df_ALUAR['Precio Mínimo'] = df_ALUAR['Precio Mínimo'].apply(process_value)\n",
    "df_ALUAR['Precio Máximo'] = df_ALUAR['Precio Máximo'].apply(process_value)\n",
    "df_ALUAR['Precio Cierre'] = df_ALUAR['Precio Cierre'].apply(process_value)\n",
    "\n",
    "\n",
    "df_BBVA['Fecha'] = pd.to_datetime(df_BBVA['Fecha']).dt.date   \n",
    "df_BBVA['Volumen Nominal'] = df_BBVA['Volumen Nominal'].apply(proces_comma)\n",
    "df_BBVA['Precio Apertura'] = df_BBVA['Precio Apertura'].apply(process_value)\n",
    "df_BBVA['Precio Mínimo'] = df_BBVA['Precio Mínimo'].apply(process_value)\n",
    "df_BBVA['Precio Máximo'] = df_BBVA['Precio Máximo'].apply(process_value)\n",
    "df_BBVA['Precio Cierre'] = df_BBVA['Precio Cierre'].apply(process_value)\n",
    "\n",
    "df_CRESUD['Fecha'] = pd.to_datetime(df_CRESUD['Fecha']).dt.date   \n",
    "df_CRESUD['Volumen Nominal'] = df_CRESUD['Volumen Nominal'].apply(proces_comma)\n",
    "df_CRESUD['Precio Apertura'] = df_CRESUD['Precio Apertura'].apply(process_value)\n",
    "df_CRESUD['Precio Mínimo'] = df_CRESUD['Precio Mínimo'].apply(process_value)\n",
    "df_CRESUD['Precio Máximo'] = df_CRESUD['Precio Máximo'].apply(process_value)\n",
    "df_CRESUD['Precio Cierre'] = df_CRESUD['Precio Cierre'].apply(process_value)\n",
    "\n",
    "df_Galicia['Fecha'] = pd.to_datetime(df_Galicia['Fecha']).dt.date   \n",
    "df_Galicia['Volumen Nominal'] = df_Galicia['Volumen Nominal'].apply(proces_comma)\n",
    "df_Galicia['Precio Apertura'] = df_Galicia['Precio Apertura'].apply(process_value)\n",
    "df_Galicia['Precio Mínimo'] = df_Galicia['Precio Mínimo'].apply(process_value)\n",
    "df_Galicia['Precio Máximo'] = df_Galicia['Precio Máximo'].apply(process_value)\n",
    "df_Galicia['Precio Cierre'] = df_Galicia['Precio Cierre'].apply(process_value)\n",
    "\n",
    "df_MIRGOR['Fecha'] = pd.to_datetime(df_MIRGOR['Fecha']).dt.date   \n",
    "df_MIRGOR['Volumen Nominal'] = df_MIRGOR['Volumen Nominal'].apply(proces_comma)\n",
    "df_MIRGOR['Precio Apertura'] = df_MIRGOR['Precio Apertura'].apply(process_value)\n",
    "df_MIRGOR['Precio Mínimo'] = df_MIRGOR['Precio Mínimo'].apply(process_value)\n",
    "df_MIRGOR['Precio Máximo'] = df_MIRGOR['Precio Máximo'].apply(process_value)\n",
    "df_MIRGOR['Precio Cierre'] = df_MIRGOR['Precio Cierre'].apply(process_value)\n",
    "\n",
    "df_TCBNA['Fecha'] = pd.to_datetime(df_TCBNA['Fecha']).dt.date   \n",
    "# Crear columna promedio entre los valores de compra y venta'\n",
    "df_TCBNA['Compra'] = df_TCBNA['Compra'].str.replace(',', '.').astype(float)\n",
    "df_TCBNA['Venta'] = df_TCBNA['Venta'].str.replace(',', '.').astype(float)                         \n",
    "df_TCBNA['Promedio'] = (df_TCBNA['Compra'] + df_TCBNA['Venta']) / 2\n"
   ]
  },
  {
   "cell_type": "markdown",
   "metadata": {},
   "source": [
    "Creacion de tablas para usar en el análisis"
   ]
  },
  {
   "cell_type": "markdown",
   "metadata": {},
   "source": [
    "Eliminacion de campos que no interesan para el analisis"
   ]
  },
  {
   "cell_type": "code",
   "execution_count": 173,
   "metadata": {},
   "outputs": [],
   "source": [
    "df_ALUAR_A = df_ALUAR.drop(columns=['Volumen Nominal', 'Precio Apertura', 'Precio Mínimo', 'Precio Máximo'])\n",
    "df_BBVA_A = df_BBVA.drop(columns=['Volumen Nominal', 'Precio Apertura', 'Precio Mínimo', 'Precio Máximo'])\n",
    "df_CRESUD_A = df_CRESUD.drop(columns=['Volumen Nominal', 'Precio Apertura', 'Precio Mínimo', 'Precio Máximo'])\n",
    "df_Galicia_A = df_Galicia.drop(columns=['Volumen Nominal', 'Precio Apertura', 'Precio Mínimo', 'Precio Máximo'])\n",
    "df_MIRGOR_A = df_MIRGOR.drop(columns=['Volumen Nominal', 'Precio Apertura', 'Precio Mínimo', 'Precio Máximo'])\n",
    "df_TCBNA_A = df_TCBNA.drop(columns=['Compra', 'Venta'])"
   ]
  },
  {
   "cell_type": "markdown",
   "metadata": {},
   "source": [
    "Creacion de la tabla para cada uno de las empresas"
   ]
  },
  {
   "cell_type": "code",
   "execution_count": null,
   "metadata": {},
   "outputs": [],
   "source": [
    "# Realizar un inner join en la columna Fecha\n",
    "ALUAR_F = pd.merge(df_ALUAR_A, df_TCBNA_A, on='Fecha', how='inner')\n",
    "# Crear la nueva columna 'Precio Cierre en Dólares'\n",
    "ALUAR_F['Precio_Cierre_USD'] = ALUAR_F['Precio Cierre'] / ALUAR_F['Promedio']\n",
    "\n",
    "BBVA_F = pd.merge(df_BBVA_A, df_TCBNA_A, on='Fecha', how='inner')\n",
    "BBVA_F['Precio_Cierre_USD'] = BBVA_F['Precio Cierre'] / BBVA_F['Promedio']\n",
    "\n",
    "CRESUD_F = pd.merge(df_CRESUD_A, df_TCBNA_A, on='Fecha', how='inner')\n",
    "CRESUD_F['Precio_Cierre_USD'] = CRESUD_F['Precio Cierre'] / CRESUD_F['Promedio']\n",
    "\n",
    "Galicia_F = pd.merge(df_Galicia_A, df_TCBNA_A, on='Fecha', how='inner')\n",
    "Galicia_F['Precio_Cierre_USD'] = Galicia_F['Precio Cierre'] / Galicia_F['Promedio']\n",
    "\n",
    "MIRGOR_F = pd.merge(df_MIRGOR_A, df_TCBNA_A, on='Fecha', how='inner')\n",
    "MIRGOR_F['Precio_Cierre_USD'] = MIRGOR_F['Precio Cierre'] / MIRGOR_F['Promedio']\n"
   ]
  },
  {
   "cell_type": "markdown",
   "metadata": {},
   "source": [
    "Con estas tablas voy a sacar el promedio mensual para luego sacar el retorno intermensual"
   ]
  },
  {
   "cell_type": "code",
   "execution_count": 174,
   "metadata": {},
   "outputs": [],
   "source": [
    "# Asegúrate de que la columna 'Fecha' sea del tipo datetime\n",
    "ALUAR_F['Fecha'] = pd.to_datetime(ALUAR_F['Fecha'])\n",
    "# Crear una nueva columna con el mes y año (para agrupar más fácilmente)\n",
    "ALUAR_F['Mes_Año'] = ALUAR_F['Fecha'].dt.to_period('M')\n",
    "# Agrupar por 'Mes_Año' y calcular el promedio de 'Precio Cierre'\n",
    "ALUAR_m = ALUAR_F.groupby('Mes_Año')['Precio_Cierre_USD'].mean().reset_index()\n",
    "# Renombrar las columnas para claridad\n",
    "ALUAR_m.columns = ['Mes_Año', 'Precio_Cierre_USD']\n",
    "\n",
    "BBVA_F['Fecha'] = pd.to_datetime(BBVA_F['Fecha'])\n",
    "BBVA_F['Mes_Año'] = BBVA_F['Fecha'].dt.to_period('M')\n",
    "BBVA_m = BBVA_F.groupby('Mes_Año')['Precio_Cierre_USD'].mean().reset_index()\n",
    "BBVA_m.columns = ['Mes_Año', 'Precio_Cierre_USD']\n",
    "\n",
    "CRESUD_F['Fecha'] = pd.to_datetime(CRESUD_F['Fecha'])\n",
    "CRESUD_F['Mes_Año'] = CRESUD_F['Fecha'].dt.to_period('M')\n",
    "CRESUD_m = CRESUD_F.groupby('Mes_Año')['Precio_Cierre_USD'].mean().reset_index()\n",
    "CRESUD_m.columns = ['Mes_Año', 'Precio_Cierre_USD']\n",
    "\n",
    "Galicia_F['Fecha'] = pd.to_datetime(Galicia_F['Fecha'])\n",
    "Galicia_F['Mes_Año'] = Galicia_F['Fecha'].dt.to_period('M')\n",
    "Galicia_m = Galicia_F.groupby('Mes_Año')['Precio_Cierre_USD'].mean().reset_index()\n",
    "Galicia_m.columns = ['Mes_Año', 'Precio_Cierre_USD']\n",
    "\n",
    "MIRGOR_F['Fecha'] = pd.to_datetime(MIRGOR_F['Fecha'])\n",
    "MIRGOR_F['Mes_Año'] = MIRGOR_F['Fecha'].dt.to_period('M')\n",
    "MIRGOR_m = MIRGOR_F.groupby('Mes_Año')['Precio_Cierre_USD'].mean().reset_index()\n",
    "MIRGOR_m.columns = ['Mes_Año', 'Precio_Cierre_USD']\n"
   ]
  },
  {
   "cell_type": "code",
   "execution_count": 176,
   "metadata": {},
   "outputs": [
    {
     "name": "stdout",
     "output_type": "stream",
     "text": [
      "Retornos intermensuales combinados:\n",
      "    Mes_Año    MIRGOR     ALUAR   Galicia      BBVA    CRESUD\n",
      "0   2023-10       NaN       NaN       NaN       NaN       NaN\n",
      "1   2023-11  0.155900  0.411518  0.310059 -0.400916  0.111282\n",
      "2   2023-12 -0.357609 -0.627164 -0.997751 -0.997284 -0.228539\n",
      "3   2024-01 -0.092458 -0.640979 -0.106640 -0.149289 -0.607732\n",
      "4   2024-02 -0.104968  2.132809  0.110697  0.034484  0.507565\n",
      "5   2024-03 -0.097359  0.158817  0.026201  0.165054  0.070042\n",
      "6   2024-04  0.083059  0.018402  0.179716  0.136820  0.103081\n",
      "7   2024-05  0.158444 -0.341236  0.283748  0.345499 -0.604233\n",
      "8   2024-06  0.159903  0.476863  0.071531  0.084793  0.280566\n",
      "9   2024-07  0.017687 -0.659388 -0.097001 -0.104131  0.097550\n",
      "10  2024-08 -0.060883  1.976320  0.103362  0.078440  0.760704\n",
      "11  2024-09  0.082295 -0.048748  0.253260  0.123382 -0.802194\n",
      "12  2024-10  0.016779 -0.069815  0.045938  0.001417 -0.064168\n",
      "13  2024-11  0.066737 -0.021924  0.065753  0.211949 -0.993655\n",
      "\n",
      "Matriz de covarianza:\n",
      "           MIRGOR     ALUAR   Galicia      BBVA    CRESUD\n",
      "MIRGOR   0.021190 -0.001035  0.040802  0.032218 -0.010187\n",
      "ALUAR   -0.001035  0.804323  0.100071  0.074487  0.317502\n",
      "Galicia  0.040802  0.100071  0.109982  0.091328  0.006370\n",
      "BBVA     0.032218  0.074487  0.091328  0.117623 -0.014786\n",
      "CRESUD  -0.010187  0.317502  0.006370 -0.014786  0.269147\n"
     ]
    }
   ],
   "source": [
    "# Agrega más DataFrames si tienes otras acciones\n",
    "\n",
    "# Crear una lista de DataFrames para procesarlos juntos\n",
    "acciones = {\"MIRGOR\": MIRGOR_m, \"ALUAR\": ALUAR_m, \"Galicia\": Galicia_m, 'BBVA': BBVA_m, 'CRESUD' : CRESUD_m }\n",
    "\n",
    "# Calcular retornos intermensuales para cada acción\n",
    "for nombre, df in acciones.items():\n",
    "    df[\"Retorno\"] = df[\"Precio_Cierre_USD\"].pct_change()\n",
    "    acciones[nombre] = df\n",
    "\n",
    "# Combinar los retornos de todas las acciones en un solo DataFrame\n",
    "retornos_df = pd.DataFrame({\"Mes_Año\": MIRGOR_m[\"Mes_Año\"]})\n",
    "\n",
    "for nombre, df in acciones.items():\n",
    "    retornos_df[nombre] = df[\"Retorno\"]\n",
    "\n",
    "# Mostrar los retornos combinados\n",
    "print(\"Retornos intermensuales combinados:\")\n",
    "print(retornos_df)\n",
    "\n",
    "# Calcular la matriz de covarianza\n",
    "matriz_covarianza = retornos_df.iloc[:, 1:].cov()\n",
    "\n",
    "# Mostrar la matriz de covarianza\n",
    "print(\"\\nMatriz de covarianza:\")\n",
    "print(matriz_covarianza)"
   ]
  }
 ],
 "metadata": {
  "kernelspec": {
   "display_name": "Python 3",
   "language": "python",
   "name": "python3"
  },
  "language_info": {
   "codemirror_mode": {
    "name": "ipython",
    "version": 3
   },
   "file_extension": ".py",
   "mimetype": "text/x-python",
   "name": "python",
   "nbconvert_exporter": "python",
   "pygments_lexer": "ipython3",
   "version": "3.13.0"
  }
 },
 "nbformat": 4,
 "nbformat_minor": 2
}
