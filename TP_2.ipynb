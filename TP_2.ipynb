{
 "cells": [
  {
   "cell_type": "code",
   "execution_count": 12,
   "metadata": {},
   "outputs": [
    {
     "name": "stdout",
     "output_type": "stream",
     "text": [
      "       Fecha  Volumen Nominal Precio Apertura Precio Mínimo Precio Máximo  \\\n",
      "0 2023-10-02         728206.0          659881        639884        666879   \n",
      "1 2023-10-03        1000959.0          666879        651882        677877   \n",
      "2 2023-10-04        1396877.0          675878        654882        719370   \n",
      "3 2023-10-05        1790609.0          719870        719870        779359   \n",
      "4 2023-10-06        2014552.0          771860        769861        842848   \n",
      "\n",
      "  Precio Cierre  \n",
      "0        664880  \n",
      "1        675878  \n",
      "2        718870  \n",
      "3        762862  \n",
      "4        840848  \n"
     ]
    }
   ],
   "source": [
    "import pandas as pd\n",
    "\n",
    "# URL \"raw\" del archivo de Excel\n",
    "url = 'https://raw.githubusercontent.com/Cristian95R/TP2_Macro/main/Source_Files/ALUAR.xlsx'\n",
    "\n",
    "# Cargar el archivo de Excel\n",
    "df_ALUAR = pd.read_excel(url, engine='openpyxl')\n",
    "df_ALUAR = df_ALUAR.drop(columns=['Unnamed: 0'])\n",
    "# Elimina los separadores de miles y convierte a números\n",
    "df_ALUAR['Volumen Nominal'] = df_ALUAR['Volumen Nominal'].str.replace('.', '', regex=False).str.replace(',', '.', regex=False).astype(float)\n",
    "\n",
    "# Mostrar las primeras filas del DataFrame\n",
    "print(df_ALUAR.head())\n"
   ]
  }
 ],
 "metadata": {
  "kernelspec": {
   "display_name": "Python 3",
   "language": "python",
   "name": "python3"
  },
  "language_info": {
   "codemirror_mode": {
    "name": "ipython",
    "version": 3
   },
   "file_extension": ".py",
   "mimetype": "text/x-python",
   "name": "python",
   "nbconvert_exporter": "python",
   "pygments_lexer": "ipython3",
   "version": "3.13.0"
  }
 },
 "nbformat": 4,
 "nbformat_minor": 2
}
