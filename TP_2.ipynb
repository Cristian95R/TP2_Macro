{
 "cells": [
  {
   "cell_type": "code",
   "execution_count": 21,
   "metadata": {},
   "outputs": [],
   "source": [
    "import pandas as pd\n"
   ]
  },
  {
   "cell_type": "code",
   "execution_count": null,
   "metadata": {},
   "outputs": [],
   "source": [
    "# URL \"raw\" del archivo de Excel\n",
    "url = 'https://raw.githubusercontent.com/Cristian95R/TP2_Macro/main/Source_Files/ALUAR.xlsx'\n",
    "url_2 = 'https://raw.githubusercontent.com/Cristian95R/TP2_Macro/main/Source_Files/BBVA.xlsx'\n",
    "url_3 = 'https://raw.githubusercontent.com/Cristian95R/TP2_Macro/main/Source_Files/CRESUD.xlsx'\n",
    "url_4 = 'https://raw.githubusercontent.com/Cristian95R/TP2_Macro/main/Source_Files/Galicia.xlsx'\n",
    "url_5 = 'https://raw.githubusercontent.com/Cristian95R/TP2_Macro/main/Source_Files/MIRGOR.xlsx'\n",
    "\n",
    "# Cargar el archivo de Excel\n",
    "df_ALUAR = pd.read_excel(url, dtype=str)  # Leer como texto para evitar conversiones automáticas\n",
    "df_ALUAR = df_ALUAR.drop(columns=['Unnamed: 0'])\n",
    "df_BBVA = pd.read_excel(url_2, dtype=str) \n",
    "df_CRESUD = pd.read_excel(url_3, dtype=str) \n",
    "df_Galicia = pd.read_excel(url_4, dtype=str) \n",
    "df_MIRGOR = pd.read_excel(url_5, dtype=str)"
   ]
  },
  {
   "cell_type": "code",
   "execution_count": 23,
   "metadata": {},
   "outputs": [],
   "source": [
    "# Función para verificar y ajustar los valores\n",
    "def process_value(value):\n",
    "    if ',' in str(value):  # Si contiene una coma, no modificar\n",
    "        return value\n",
    "    else:  # Si no contiene una coma, dividir por 100\n",
    "        try:\n",
    "            return float(value) / 100\n",
    "        except ValueError:  # En caso de que no sea numérico\n",
    "            return value\n",
    "        \n",
    "# Función para procesar los valores\n",
    "def proces_comma(value):\n",
    "    # Reemplazar formatos europeos (punto para miles y coma para decimales)\n",
    "    try:\n",
    "        # Reemplazar punto y coma, luego convertir a float y a entero\n",
    "        value = str(value).replace('.', '').replace(',', '.')\n",
    "        return int(float(value))  # Convertir a número entero\n",
    "    except ValueError:  # Si no es un número válido, retornar None o el valor original\n",
    "        return None"
   ]
  },
  {
   "cell_type": "code",
   "execution_count": 28,
   "metadata": {},
   "outputs": [
    {
     "name": "stdout",
     "output_type": "stream",
     "text": [
      "        Fecha  Volumen Nominal Precio Apertura Precio Mínimo Precio Máximo  \\\n",
      "0  2023-10-02             7516       8.137,000     8.137,000     8.750,000   \n",
      "1  2023-10-03             7177       8.850,000     8.198,000     8.850,000   \n",
      "2  2023-10-04            11552       8.423,000     8.250,500     8.527,500   \n",
      "3  2023-10-05            13870       8.443,000     8.350,000     8.800,000   \n",
      "4  2023-10-06             6916       8.497,500     8.400,000     8.677,500   \n",
      "\n",
      "  Precio Cierre  \n",
      "0     8.653,000  \n",
      "1     8.430,000  \n",
      "2     8.443,000  \n",
      "3     8.473,500  \n",
      "4     8.627,000  \n"
     ]
    }
   ],
   "source": [
    "# Aplicar la función c/u de las columna\n",
    "df_ALUAR['Fecha'] = pd.to_datetime(df_ALUAR['Fecha']).dt.date   # Convertir la columna a tipo datetime y extraer solo la fecha\n",
    "df_ALUAR['Volumen Nominal'] = df_ALUAR['Volumen Nominal'].apply(proces_comma)\n",
    "df_ALUAR['Precio Apertura'] = df_ALUAR['Precio Apertura'].apply(process_value)\n",
    "df_ALUAR['Precio Mínimo'] = df_ALUAR['Precio Mínimo'].apply(process_value)\n",
    "df_ALUAR['Precio Máximo'] = df_ALUAR['Precio Máximo'].apply(process_value)\n",
    "df_ALUAR['Precio Cierre'] = df_ALUAR['Precio Cierre'].apply(process_value)\n",
    "\n",
    "df_BBVA['Fecha'] = pd.to_datetime(df_BBVA['Fecha']).dt.date   \n",
    "df_BBVA['Volumen Nominal'] = df_BBVA['Volumen Nominal'].apply(proces_comma)\n",
    "df_BBVA['Precio Apertura'] = df_BBVA['Precio Apertura'].apply(process_value)\n",
    "df_BBVA['Precio Mínimo'] = df_BBVA['Precio Mínimo'].apply(process_value)\n",
    "df_BBVA['Precio Máximo'] = df_BBVA['Precio Máximo'].apply(process_value)\n",
    "df_BBVA['Precio Cierre'] = df_BBVA['Precio Cierre'].apply(process_value)\n",
    "\n",
    "df_CRESUD['Fecha'] = pd.to_datetime(df_CRESUD['Fecha']).dt.date   \n",
    "df_CRESUD['Volumen Nominal'] = df_CRESUD['Volumen Nominal'].apply(proces_comma)\n",
    "df_CRESUD['Precio Apertura'] = df_CRESUD['Precio Apertura'].apply(process_value)\n",
    "df_CRESUD['Precio Mínimo'] = df_CRESUD['Precio Mínimo'].apply(process_value)\n",
    "df_CRESUD['Precio Máximo'] = df_CRESUD['Precio Máximo'].apply(process_value)\n",
    "df_CRESUD['Precio Cierre'] = df_CRESUD['Precio Cierre'].apply(process_value)\n",
    "\n",
    "df_Galicia['Fecha'] = pd.to_datetime(df_Galicia['Fecha']).dt.date   \n",
    "df_Galicia['Volumen Nominal'] = df_Galicia['Volumen Nominal'].apply(proces_comma)\n",
    "df_Galicia['Precio Apertura'] = df_Galicia['Precio Apertura'].apply(process_value)\n",
    "df_Galicia['Precio Mínimo'] = df_Galicia['Precio Mínimo'].apply(process_value)\n",
    "df_Galicia['Precio Máximo'] = df_Galicia['Precio Máximo'].apply(process_value)\n",
    "df_Galicia['Precio Cierre'] = df_Galicia['Precio Cierre'].apply(process_value)\n",
    "\n",
    "df_MIRGOR['Fecha'] = pd.to_datetime(df_MIRGOR['Fecha']).dt.date   \n",
    "df_MIRGOR['Volumen Nominal'] = df_MIRGOR['Volumen Nominal'].apply(proces_comma)\n",
    "df_MIRGOR['Precio Apertura'] = df_MIRGOR['Precio Apertura'].apply(process_value)\n",
    "df_MIRGOR['Precio Mínimo'] = df_MIRGOR['Precio Mínimo'].apply(process_value)\n",
    "df_MIRGOR['Precio Máximo'] = df_MIRGOR['Precio Máximo'].apply(process_value)\n",
    "df_MIRGOR['Precio Cierre'] = df_MIRGOR['Precio Cierre'].apply(process_value)\n",
    "\n",
    "# Mostrar las primeras filas del DataFrame\n",
    "print(df_MIRGOR.head())\n"
   ]
  }
 ],
 "metadata": {
  "kernelspec": {
   "display_name": "Python 3",
   "language": "python",
   "name": "python3"
  },
  "language_info": {
   "codemirror_mode": {
    "name": "ipython",
    "version": 3
   },
   "file_extension": ".py",
   "mimetype": "text/x-python",
   "name": "python",
   "nbconvert_exporter": "python",
   "pygments_lexer": "ipython3",
   "version": "3.13.0"
  }
 },
 "nbformat": 4,
 "nbformat_minor": 2
}
