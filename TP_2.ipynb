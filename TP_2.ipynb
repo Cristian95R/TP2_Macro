{
 "cells": [
  {
   "cell_type": "code",
   "execution_count": 8,
   "metadata": {},
   "outputs": [
    {
     "name": "stdout",
     "output_type": "stream",
     "text": [
      "   Unnamed: 0      Fecha Volumen Nominal Precio Apertura Precio Mínimo  \\\n",
      "0         NaN 2023-10-02     728.206,000          659881        639884   \n",
      "1         NaN 2023-10-03   1.000.959,000          666879        651882   \n",
      "2         NaN 2023-10-04   1.396.877,000          675878        654882   \n",
      "3         NaN 2023-10-05   1.790.609,000          719870        719870   \n",
      "4         NaN 2023-10-06   2.014.552,000          771860        769861   \n",
      "\n",
      "  Precio Máximo Precio Cierre  \n",
      "0        666879        664880  \n",
      "1        677877        675878  \n",
      "2        719370        718870  \n",
      "3        779359        762862  \n",
      "4        842848        840848  \n"
     ]
    }
   ],
   "source": [
    "import pandas as pd\n",
    "\n",
    "# URL \"raw\" del archivo de Excel\n",
    "url = 'https://raw.githubusercontent.com/Cristian95R/TP2_Macro/main/Source_Files/ALUAR.xlsx'\n",
    "\n",
    "# Cargar el archivo de Excel\n",
    "df_ALUAR = pd.read_excel(url, engine='openpyxl')\n",
    "\n",
    "# Mostrar las primeras filas del DataFrame\n",
    "print(df_ALUAR.head())\n"
   ]
  }
 ],
 "metadata": {
  "kernelspec": {
   "display_name": "Python 3",
   "language": "python",
   "name": "python3"
  },
  "language_info": {
   "codemirror_mode": {
    "name": "ipython",
    "version": 3
   },
   "file_extension": ".py",
   "mimetype": "text/x-python",
   "name": "python",
   "nbconvert_exporter": "python",
   "pygments_lexer": "ipython3",
   "version": "3.13.0"
  }
 },
 "nbformat": 4,
 "nbformat_minor": 2
}
